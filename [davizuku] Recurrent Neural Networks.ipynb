{
 "cells": [
  {
   "cell_type": "markdown",
   "metadata": {},
   "source": [
    "# Recurrent Neural Networks"
   ]
  },
  {
   "cell_type": "markdown",
   "metadata": {},
   "source": [
    "## Theory\n",
    "\n",
    "RNNs are used to solve problems with sequence of information.\n",
    "- Time Series\n",
    "- Sentences\n",
    "- Audio\n",
    "- Car Trajectories\n",
    "- Music\n",
    "\n",
    "A sequence is a vector of values where its index points to a specific time.\n",
    "\n",
    "A recurrent neuron sends output back to itself, instead of depending only on new input. That is, a neuron at time T-1 outputs information that will fill another neuron at time T, and consecutivelly to neuron at T to neuron at T+1.\n",
    "\n",
    "Neurons that receive outputs from the past, are called memory neurons or cells.\n",
    "\n",
    "Entire layers of Recurrent Neurons can also be created. They are flexible in terms of inputs and outputs: \n",
    "\n",
    "- Sequence to Sequence: input a time series data and output a time series data shifted into the future by a specific period of time.\n",
    "\n",
    "- Sequence to Vector: input a paragraph, i.e. a sequence of words, and output a sentiment value, i.e. a single value vector.\n",
    "\n",
    "- Vector to Sequence: pass a vector as a first value of a sequence (fill other values with 0) and output is a sequence of values. \n"
   ]
  },
  {
   "cell_type": "markdown",
   "metadata": {},
   "source": [
    "## Manual creation of RNNs"
   ]
  },
  {
   "cell_type": "code",
   "execution_count": 1,
   "metadata": {
    "collapsed": true
   },
   "outputs": [],
   "source": [
    "import numpy as np\n",
    "import tensorflow as tf\n",
    "import matplotlib.pyplot as plt\n",
    "%matplotlib inline"
   ]
  },
  {
   "cell_type": "code",
   "execution_count": 2,
   "metadata": {
    "collapsed": true
   },
   "outputs": [],
   "source": [
    "# CONSTANTS"
   ]
  },
  {
   "cell_type": "code",
   "execution_count": 3,
   "metadata": {
    "collapsed": true
   },
   "outputs": [],
   "source": [
    "num_inputs = 2"
   ]
  },
  {
   "cell_type": "code",
   "execution_count": 4,
   "metadata": {
    "collapsed": true
   },
   "outputs": [],
   "source": [
    "num_neurons = 3"
   ]
  },
  {
   "cell_type": "code",
   "execution_count": 5,
   "metadata": {
    "collapsed": true
   },
   "outputs": [],
   "source": [
    "# PLACEHOLDERS"
   ]
  },
  {
   "cell_type": "code",
   "execution_count": 6,
   "metadata": {
    "collapsed": true
   },
   "outputs": [],
   "source": [
    "x0 = tf.placeholder(tf.float32, [None, num_inputs])"
   ]
  },
  {
   "cell_type": "code",
   "execution_count": 7,
   "metadata": {
    "collapsed": true
   },
   "outputs": [],
   "source": [
    "x1 = tf.placeholder(tf.float32, [None, num_inputs])"
   ]
  },
  {
   "cell_type": "code",
   "execution_count": 8,
   "metadata": {
    "collapsed": true
   },
   "outputs": [],
   "source": [
    "# VARIABLES"
   ]
  },
  {
   "cell_type": "code",
   "execution_count": 9,
   "metadata": {
    "collapsed": true
   },
   "outputs": [],
   "source": [
    "Wx = tf.Variable(tf.random_normal(shape = [num_inputs, num_neurons]))"
   ]
  },
  {
   "cell_type": "code",
   "execution_count": 10,
   "metadata": {
    "collapsed": true
   },
   "outputs": [],
   "source": [
    "Wy = tf.Variable(tf.random_normal(shape = [num_neurons, num_neurons]))"
   ]
  },
  {
   "cell_type": "code",
   "execution_count": 11,
   "metadata": {
    "collapsed": true
   },
   "outputs": [],
   "source": [
    "b = tf.Variable(tf.zeros([1, num_neurons]))"
   ]
  },
  {
   "cell_type": "code",
   "execution_count": 12,
   "metadata": {
    "collapsed": true
   },
   "outputs": [],
   "source": [
    "# GRAPHS"
   ]
  },
  {
   "cell_type": "code",
   "execution_count": 13,
   "metadata": {
    "collapsed": true
   },
   "outputs": [],
   "source": [
    "y0 = tf.tanh(tf.matmul(x0, Wx) + b)"
   ]
  },
  {
   "cell_type": "code",
   "execution_count": 14,
   "metadata": {
    "collapsed": true
   },
   "outputs": [],
   "source": [
    "y1 = tf.tanh(tf.matmul(y0, Wy) + tf.matmul(x1, Wx) + b)"
   ]
  },
  {
   "cell_type": "code",
   "execution_count": 15,
   "metadata": {
    "collapsed": true
   },
   "outputs": [],
   "source": [
    "init = tf.global_variables_initializer()"
   ]
  },
  {
   "cell_type": "code",
   "execution_count": 16,
   "metadata": {
    "collapsed": true
   },
   "outputs": [],
   "source": [
    "# CREATE DATA"
   ]
  },
  {
   "cell_type": "code",
   "execution_count": 17,
   "metadata": {
    "collapsed": true
   },
   "outputs": [],
   "source": [
    "x0_batch = np.array([ [0, 1], [2, 3], [4,5] ])\n",
    "x1_batch = np.array([ [100, 101], [102, 103], [104, 105]])"
   ]
  },
  {
   "cell_type": "code",
   "execution_count": 18,
   "metadata": {
    "collapsed": true
   },
   "outputs": [],
   "source": [
    "with tf.Session() as sess:\n",
    "    sess.run(init)\n",
    "    \n",
    "    y0_output_vals, y1_output_vals = sess.run(\n",
    "        [ y0, y1 ], \n",
    "        feed_dict = {\n",
    "            x0: x0_batch, \n",
    "            x1: x1_batch\n",
    "        }\n",
    "    )"
   ]
  },
  {
   "cell_type": "code",
   "execution_count": 19,
   "metadata": {},
   "outputs": [
    {
     "data": {
      "text/plain": [
       "array([[ 0.72785348,  0.80552036,  0.68613899],\n",
       "       [ 0.98292738,  0.99910301,  0.99120921],\n",
       "       [ 0.99905902,  0.9999963 ,  0.99979061]], dtype=float32)"
      ]
     },
     "execution_count": 19,
     "metadata": {},
     "output_type": "execute_result"
    }
   ],
   "source": [
    "y0_output_vals"
   ]
  },
  {
   "cell_type": "code",
   "execution_count": 20,
   "metadata": {},
   "outputs": [
    {
     "data": {
      "text/plain": [
       "array([[ 1.,  1.,  1.],\n",
       "       [ 1.,  1.,  1.],\n",
       "       [ 1.,  1.,  1.]], dtype=float32)"
      ]
     },
     "execution_count": 20,
     "metadata": {},
     "output_type": "execute_result"
    }
   ],
   "source": [
    "y1_output_vals"
   ]
  },
  {
   "cell_type": "markdown",
   "metadata": {},
   "source": [
    "## Vanishing Gradients\n",
    "\n",
    "Backpropagation in deep networks vanishing gradients issue arise.\n",
    "\n",
    "Vanishing gradients occur when gradients at layers near to the input, tend to be so small that weights never change. On the other hand, Exploding Gradients occur if gradients start to increase instead of decrease.\n",
    "\n",
    "This problem is related to activation functions and the way they are computed: \n",
    "\n",
    "- Sigmoid activation: with high positive numbers the function tends to 1, and with very high negative numbers it tends to 0. In both cases the slope of the derivative tends to 0. Which leads to unchanging weights.\n",
    "\n",
    "- Hyperbolic tangent has a similar problem\n",
    "\n",
    "Different activation functions: \n",
    "\n",
    "- Rectified Linear Unit (ReLU): does not saturate positive values. However it is going to output always 0 for negative numbers.\n",
    "\n",
    "- \"Leaky\" ReLU: similar to ReLU but with a small slope for negative numbers. \n",
    "\n",
    "- Exponential Linear Unit (ELU).\n",
    "\n",
    "### Other solutions\n",
    "\n",
    "- Batch normalization: Normalize batches by using their mean and std. \n",
    "- Gradient clipping: Cut gradients into some boundaries, like [-1, 1]\n",
    "\n"
   ]
  },
  {
   "cell_type": "markdown",
   "metadata": {},
   "source": [
    "## Specialized neuron units for RNN\n",
    "\n",
    "Solutions presented for Vanishing gradients can apply for RNN, but they could slow down training.\n",
    "\n",
    "### LSTM\n",
    "\n",
    "Long Short Term Memory. Introduces the concept of the Cell state. It consists of several phases: \n",
    "\n",
    "- Forget gates layer: decide which information will be taken / replaced from the cell state, thus, forgetting. \n",
    "$$ f_t = \\sigma (W_f \\cdot [h_{t-1}, x_t] + b_f) $$\n",
    "Sigma function will output a number between 0 and 1, 1 meaning to keep the value and 0 forget it. \n",
    "- Decide which new information will be stored in the cell state:\n",
    "  - input gate layer: $$ i_t = \\sigma (W_i \\cdot [h_{t-1}, x_t] + b_i) $$\n",
    "  - new candidate values: $$ \\tilde{C}_t = tanh(W_C \\cdot [h_{t-1}, x_t] + b_C) $$\n",
    "\n",
    "- Update the old cell state\n",
    "$$ C_t = f_t * C_{t-1} + i_t * \\tilde{C}_t $$\n",
    "\n",
    "- Output decision. It is a version of cell state but filtered. \n",
    "$$ o_t = \\sigma (W_o \\cdot [h_{t-1}, x_t] + b_o) $$\n",
    "$$ h_t = o_t * tanh(C_t) $$\n",
    "\n",
    "### LSTM (with peepholes)\n",
    "\n",
    "Allows sigma functions to see the current cell state, as follows: \n",
    "\n",
    "$$ f_t = \\sigma (W_f \\cdot [C_{t-1}, h_{t-1}, x_t] + b_f) $$\n",
    "$$ i_t = \\sigma (W_i \\cdot [C_{t-1}, h_{t-1}, x_t] + b_i) $$\n",
    "$$ o_t = \\sigma (W_o \\cdot [C_{t-1}, h_{t-1}, x_t] + b_o) $$\n",
    "\n",
    "\n",
    "### GRU\n",
    "\n",
    "Gated Recurrent Unit. It simplifies some of the LSTM steps, as follows: \n",
    "\n",
    "$$ z_t = \\sigma(W_z \\cdot [h_{t-1}, x_t]) $$\n",
    "$$ r_t = \\sigma(W_r \\cdot [h_{t-1}, x_t]) $$\n",
    "$$ \\tilde{h}_t = tanh(W \\cdot [r_t * h_{t-1}, x_t]) $$\n",
    "$$ h_t = (1 - z_t) * h_{t-1} + z_t * \\tilde{h}_t $$\n"
   ]
  },
  {
   "cell_type": "markdown",
   "metadata": {},
   "source": [
    "## RNN with TF API"
   ]
  },
  {
   "cell_type": "code",
   "execution_count": 21,
   "metadata": {
    "collapsed": true
   },
   "outputs": [],
   "source": [
    "import numpy as np\n",
    "import tensorflow as tf\n",
    "import matplotlib.pyplot as plt\n",
    "%matplotlib inline"
   ]
  },
  {
   "cell_type": "code",
   "execution_count": 22,
   "metadata": {
    "collapsed": true
   },
   "outputs": [],
   "source": [
    "class TimeSeriesData():\n",
    "    \n",
    "    def __init__(self, num_points, xmin, xmax):\n",
    "        \n",
    "        self.xmin = xmin\n",
    "        self.xmax = xmax\n",
    "        self.num_points = num_points\n",
    "        self.resolution = (xmax - xmin) / num_points\n",
    "        self.x_data = np.linspace(xmin, xmax, num_points)\n",
    "        self.y_true = np.sin(self.x_data)\n",
    "        \n",
    "    def ret_true(self, x_series):\n",
    "        return np.sin(x_series)\n",
    "    \n",
    "    def next_batch(self, batch_size, steps, return_batch_ts = False):\n",
    "        # Grab a random starting point for each batch\n",
    "        rand_start = np.random.rand(batch_size, 1)\n",
    "        \n",
    "        # Convert to be on time series\n",
    "        ts_start = rand_start * (self.xmax - self.xmin - (steps*self.resolution))\n",
    "        \n",
    "        # Create batch time series on the x axis\n",
    "        batch_ts = ts_start + np.arange(0.0, steps + 1) * self.resolution\n",
    "        \n",
    "        # Create Y data for the time series x axis from previous step\n",
    "        y_batch = np.sin(batch_ts)\n",
    "        \n",
    "        # Formatting for RNN\n",
    "        if return_batch_ts:\n",
    "            return y_batch[:,:-1].reshape(-1, steps, 1), \\\n",
    "                y_batch[:,1:].reshape(-1, steps, 1), \\\n",
    "                batch_ts\n",
    "        else: \n",
    "            return y_batch[:,:-1].reshape(-1, steps, 1), \\\n",
    "                y_batch[:,1:].reshape(-1, steps, 1)"
   ]
  },
  {
   "cell_type": "code",
   "execution_count": 23,
   "metadata": {},
   "outputs": [
    {
     "data": {
      "text/plain": [
       "[<matplotlib.lines.Line2D at 0x121485b38>]"
      ]
     },
     "execution_count": 23,
     "metadata": {},
     "output_type": "execute_result"
    },
    {
     "data": {
      "image/png": "[encoded data removed]",
      "text/plain": [
       "<matplotlib.figure.Figure at 0x11e155048>"
      ]
     },
     "metadata": {},
     "output_type": "display_data"
    }
   ],
   "source": [
    "ts_data = TimeSeriesData(250, 0, 10)\n",
    "plt.plot(ts_data.x_data, ts_data.y_true)"
   ]
  },
  {
   "cell_type": "code",
   "execution_count": 24,
   "metadata": {
    "collapsed": true
   },
   "outputs": [],
   "source": [
    "num_time_steps = 30"
   ]
  },
  {
   "cell_type": "code",
   "execution_count": 25,
   "metadata": {
    "collapsed": true
   },
   "outputs": [],
   "source": [
    "y1, y2, ts = ts_data.next_batch(1, num_time_steps, return_batch_ts=True)"
   ]
  },
  {
   "cell_type": "code",
   "execution_count": 26,
   "metadata": {},
   "outputs": [
    {
     "data": {
      "text/plain": [
       "[<matplotlib.lines.Line2D at 0x1214f87f0>]"
      ]
     },
     "execution_count": 26,
     "metadata": {},
     "output_type": "execute_result"
    },
    {
     "data": {
      "image/png": "[encoded data removed]",
      "text/plain": [
       "<matplotlib.figure.Figure at 0x11e071550>"
      ]
     },
     "metadata": {},
     "output_type": "display_data"
    }
   ],
   "source": [
    "plt.plot(ts.flatten()[1:], y2.flatten(), '*')"
   ]
  },
  {
   "cell_type": "code",
   "execution_count": 27,
   "metadata": {},
   "outputs": [
    {
     "data": {
      "image/png": "[encoded data removed]",
      "text/plain": [
       "<matplotlib.figure.Figure at 0x121580e48>"
      ]
     },
     "metadata": {},
     "output_type": "display_data"
    }
   ],
   "source": [
    "plt.plot(ts_data.x_data, ts_data.y_true, label='sin(t)')\n",
    "plt.plot(ts.flatten()[1:], y2.flatten(), '*', label='single training instance')\n",
    "plt.legend()\n",
    "plt.tight_layout()"
   ]
  },
  {
   "cell_type": "code",
   "execution_count": 28,
   "metadata": {
    "collapsed": true
   },
   "outputs": [],
   "source": [
    "# TRAINING DATA"
   ]
  },
  {
   "cell_type": "code",
   "execution_count": 29,
   "metadata": {
    "collapsed": true
   },
   "outputs": [],
   "source": [
    "train_inst = np.linspace(\n",
    "    5, \n",
    "    5 + ts_data.resolution * (num_time_steps + 1), \n",
    "    num_time_steps + 1\n",
    ")"
   ]
  },
  {
   "cell_type": "code",
   "execution_count": 30,
   "metadata": {},
   "outputs": [
    {
     "data": {
      "text/plain": [
       "array([ 5.        ,  5.04133333,  5.08266667,  5.124     ,  5.16533333,\n",
       "        5.20666667,  5.248     ,  5.28933333,  5.33066667,  5.372     ,\n",
       "        5.41333333,  5.45466667,  5.496     ,  5.53733333,  5.57866667,\n",
       "        5.62      ,  5.66133333,  5.70266667,  5.744     ,  5.78533333,\n",
       "        5.82666667,  5.868     ,  5.90933333,  5.95066667,  5.992     ,\n",
       "        6.03333333,  6.07466667,  6.116     ,  6.15733333,  6.19866667,\n",
       "        6.24      ])"
      ]
     },
     "execution_count": 30,
     "metadata": {},
     "output_type": "execute_result"
    }
   ],
   "source": [
    "train_inst"
   ]
  },
  {
   "cell_type": "code",
   "execution_count": 31,
   "metadata": {},
   "outputs": [
    {
     "data": {
      "image/png": "[encoded data removed]",
      "text/plain": [
       "<matplotlib.figure.Figure at 0x121505898>"
      ]
     },
     "metadata": {},
     "output_type": "display_data"
    }
   ],
   "source": [
    "plt.title('A training instance')\n",
    "plt.plot(\n",
    "    train_inst[:-1], \n",
    "    ts_data.ret_true(train_inst[:-1]), \n",
    "    'bo', \n",
    "    markersize=15, \n",
    "    alpha=0.5, \n",
    "    label='INSTANCE'\n",
    ")\n",
    "plt.plot(\n",
    "    train_inst[1:],\n",
    "    ts_data.ret_true(train_inst[1:]),\n",
    "    'ro', \n",
    "    markersize=7, \n",
    "    label = 'TARGET'\n",
    ")\n",
    "plt.legend()\n",
    "plt.tight_layout()"
   ]
  },
  {
   "cell_type": "markdown",
   "metadata": {},
   "source": [
    "### Creating the model"
   ]
  },
  {
   "cell_type": "code",
   "execution_count": 32,
   "metadata": {
    "collapsed": true
   },
   "outputs": [],
   "source": [
    "tf.reset_default_graph()"
   ]
  },
  {
   "cell_type": "code",
   "execution_count": 33,
   "metadata": {
    "collapsed": true
   },
   "outputs": [],
   "source": [
    "num_inputs = 1"
   ]
  },
  {
   "cell_type": "code",
   "execution_count": 34,
   "metadata": {
    "collapsed": true
   },
   "outputs": [],
   "source": [
    "num_neurons = 100"
   ]
  },
  {
   "cell_type": "code",
   "execution_count": 35,
   "metadata": {
    "collapsed": true
   },
   "outputs": [],
   "source": [
    "num_outputs = 1"
   ]
  },
  {
   "cell_type": "code",
   "execution_count": 36,
   "metadata": {
    "collapsed": true
   },
   "outputs": [],
   "source": [
    "learning_rate = 0.001"
   ]
  },
  {
   "cell_type": "code",
   "execution_count": 37,
   "metadata": {
    "collapsed": true
   },
   "outputs": [],
   "source": [
    "num_train_iterations = 2000"
   ]
  },
  {
   "cell_type": "code",
   "execution_count": 38,
   "metadata": {
    "collapsed": true
   },
   "outputs": [],
   "source": [
    "batch_size = 1"
   ]
  },
  {
   "cell_type": "code",
   "execution_count": 39,
   "metadata": {
    "collapsed": true
   },
   "outputs": [],
   "source": [
    "# Placeholders"
   ]
  },
  {
   "cell_type": "code",
   "execution_count": 40,
   "metadata": {
    "collapsed": true
   },
   "outputs": [],
   "source": [
    "X = tf.placeholder(tf.float32, [None, num_time_steps, num_inputs])"
   ]
  },
  {
   "cell_type": "code",
   "execution_count": 41,
   "metadata": {
    "collapsed": true
   },
   "outputs": [],
   "source": [
    "y = tf.placeholder(tf.float32, [None, num_time_steps, num_outputs])"
   ]
  },
  {
   "cell_type": "code",
   "execution_count": 42,
   "metadata": {
    "collapsed": true
   },
   "outputs": [],
   "source": [
    "# RNN cell layer"
   ]
  },
  {
   "cell_type": "code",
   "execution_count": 43,
   "metadata": {
    "collapsed": true
   },
   "outputs": [],
   "source": [
    "basic_cell = tf.contrib.rnn.GRUCell(\n",
    "    num_units = num_neurons, \n",
    "    activation = tf.nn.relu\n",
    ")\n",
    "cell = tf.contrib.rnn.OutputProjectionWrapper(\n",
    "    cell = basic_cell, \n",
    "    output_size = num_outputs\n",
    ")"
   ]
  },
  {
   "cell_type": "code",
   "execution_count": 44,
   "metadata": {
    "collapsed": true
   },
   "outputs": [],
   "source": [
    "outputs, states = tf.nn.dynamic_rnn(cell, X, dtype = tf.float32)"
   ]
  },
  {
   "cell_type": "code",
   "execution_count": 45,
   "metadata": {
    "collapsed": true
   },
   "outputs": [],
   "source": [
    "# MSE\n",
    "loss = tf.reduce_mean(tf.square(outputs - y))"
   ]
  },
  {
   "cell_type": "code",
   "execution_count": 46,
   "metadata": {
    "collapsed": true
   },
   "outputs": [],
   "source": [
    "optimizer = tf.train.AdamOptimizer(learning_rate=learning_rate)"
   ]
  },
  {
   "cell_type": "code",
   "execution_count": 47,
   "metadata": {
    "collapsed": true
   },
   "outputs": [],
   "source": [
    "train = optimizer.minimize(loss)"
   ]
  },
  {
   "cell_type": "code",
   "execution_count": 48,
   "metadata": {
    "collapsed": true
   },
   "outputs": [],
   "source": [
    "init = tf.global_variables_initializer()"
   ]
  },
  {
   "cell_type": "code",
   "execution_count": 49,
   "metadata": {
    "collapsed": true
   },
   "outputs": [],
   "source": [
    "# SESSION"
   ]
  },
  {
   "cell_type": "code",
   "execution_count": 50,
   "metadata": {
    "collapsed": true
   },
   "outputs": [],
   "source": [
    "# I'm not using GPU, but this is a useful command\n",
    "gpu_options = tf.GPUOptions(per_process_gpu_memory_fraction = 0.85)"
   ]
  },
  {
   "cell_type": "code",
   "execution_count": 51,
   "metadata": {
    "collapsed": true
   },
   "outputs": [],
   "source": [
    "saver = tf.train.Saver()"
   ]
  },
  {
   "cell_type": "code",
   "execution_count": 52,
   "metadata": {},
   "outputs": [
    {
     "name": "stdout",
     "output_type": "stream",
     "text": [
      "0 \tMSE 0.340114\n",
      "100 \tMSE 0.064391\n",
      "200 \tMSE 0.0458585\n",
      "300 \tMSE 0.0332636\n",
      "400 \tMSE 0.0108613\n",
      "500 \tMSE 0.00128034\n",
      "600 \tMSE 0.0133791\n",
      "700 \tMSE 0.0135203\n",
      "800 \tMSE 0.00228212\n",
      "900 \tMSE 0.00475097\n",
      "1000 \tMSE 0.00236827\n",
      "1100 \tMSE 0.000259898\n",
      "1200 \tMSE 0.00280342\n",
      "1300 \tMSE 0.00137792\n",
      "1400 \tMSE 9.36429e-05\n",
      "1500 \tMSE 0.000234335\n",
      "1600 \tMSE 0.00326221\n",
      "1700 \tMSE 0.000544061\n",
      "1800 \tMSE 7.97201e-05\n",
      "1900 \tMSE 4.39684e-06\n"
     ]
    }
   ],
   "source": [
    "with tf.Session(config = tf.ConfigProto(gpu_options=gpu_options)) as sess:\n",
    "    sess.run(init)\n",
    "    \n",
    "    for iteration in range(num_train_iterations):\n",
    "        X_batch, y_batch = ts_data.next_batch(batch_size, num_time_steps)\n",
    "        sess.run(train, feed_dict = {X: X_batch, y: y_batch})\n",
    "        \n",
    "        if iteration % 100 == 0:\n",
    "            mse = loss.eval(feed_dict={X: X_batch, y: y_batch})\n",
    "            print(iteration, \"\\tMSE\", mse)\n",
    "            \n",
    "    saver.save(sess, './rnn_time_series_model_davizuku')"
   ]
  },
  {
   "cell_type": "code",
   "execution_count": 53,
   "metadata": {},
   "outputs": [
    {
     "name": "stdout",
     "output_type": "stream",
     "text": [
      "INFO:tensorflow:Restoring parameters from ./rnn_time_series_model_davizuku\n"
     ]
    }
   ],
   "source": [
    "with tf.Session() as sess:\n",
    "    saver.restore(sess, './rnn_time_series_model_davizuku')\n",
    "    \n",
    "    X_new = np.sin(\n",
    "        np.array(\n",
    "            train_inst[:-1].reshape(\n",
    "                -1, \n",
    "                num_time_steps, \n",
    "                num_inputs\n",
    "            )\n",
    "        )\n",
    "    )\n",
    "    y_pred = sess.run(outputs, feed_dict={X: X_new})"
   ]
  },
  {
   "cell_type": "code",
   "execution_count": 54,
   "metadata": {},
   "outputs": [
    {
     "data": {
      "image/png": "[encoded data removed]",
      "text/plain": [
       "<matplotlib.figure.Figure at 0x125ff1080>"
      ]
     },
     "metadata": {},
     "output_type": "display_data"
    }
   ],
   "source": [
    "plt.title('Testing the model')\n",
    "# Training instance\n",
    "plt.plot(\n",
    "    train_inst[:-1], \n",
    "    np.sin(train_inst[:-1]), \n",
    "    'bo', \n",
    "    markersize=15,\n",
    "    alpha=0.5,\n",
    "    label='Training instance'\n",
    ")\n",
    "# Target to predict (correct test values np.sin(train))\n",
    "plt.plot(\n",
    "    train_inst[1:], \n",
    "    np.sin(train_inst[1:]),\n",
    "    'ko', \n",
    "    markersize=10, \n",
    "    label='Target'\n",
    ")\n",
    "# Model's prediction\n",
    "plt.plot(\n",
    "    train_inst[1:],\n",
    "    y_pred[0,:, 0],\n",
    "    'ro', \n",
    "    markersize=7,\n",
    "    label='Prediction'\n",
    ")\n",
    "plt.xlabel('Time')\n",
    "plt.legend()\n",
    "plt.tight_layout()"
   ]
  },
  {
   "cell_type": "markdown",
   "metadata": {},
   "source": [
    "### Generating a new sequence"
   ]
  },
  {
   "cell_type": "code",
   "execution_count": 56,
   "metadata": {},
   "outputs": [
    {
     "data": {
      "text/plain": [
       "250"
      ]
     },
     "execution_count": 56,
     "metadata": {},
     "output_type": "execute_result"
    }
   ],
   "source": [
    "len(ts_data.x_data)"
   ]
  },
  {
   "cell_type": "code",
   "execution_count": 57,
   "metadata": {},
   "outputs": [
    {
     "data": {
      "text/plain": [
       "30"
      ]
     },
     "execution_count": 57,
     "metadata": {},
     "output_type": "execute_result"
    }
   ],
   "source": [
    "num_time_steps"
   ]
  },
  {
   "cell_type": "code",
   "execution_count": 59,
   "metadata": {},
   "outputs": [
    {
     "name": "stdout",
     "output_type": "stream",
     "text": [
      "INFO:tensorflow:Restoring parameters from ./rnn_time_series_model_davizuku\n"
     ]
    }
   ],
   "source": [
    "with tf.Session() as sess:\n",
    "    saver.restore(sess, './rnn_time_series_model_davizuku')\n",
    "    \n",
    "    # SEED ZEROS\n",
    "    \n",
    "    zero_seq_seed = [0.0 for i in range(num_time_steps)]\n",
    "    for iteration in range(len(ts_data.x_data) - num_time_steps):\n",
    "        X_batch = np.array(zero_seq_seed[-num_time_steps:]).reshape(\n",
    "            1, \n",
    "            num_time_steps, \n",
    "            1\n",
    "        )\n",
    "        y_pred = sess.run(outputs, feed_dict={X: X_batch})\n",
    "        \n",
    "        zero_seq_seed.append(y_pred[0, -1, 0])"
   ]
  },
  {
   "cell_type": "code",
   "execution_count": 60,
   "metadata": {},
   "outputs": [
    {
     "data": {
      "text/plain": [
       "<matplotlib.text.Text at 0x125d4fbe0>"
      ]
     },
     "execution_count": 60,
     "metadata": {},
     "output_type": "execute_result"
    },
    {
     "data": {
      "image/png": "[encoded data removed]",
      "text/plain": [
       "<matplotlib.figure.Figure at 0x125317f98>"
      ]
     },
     "metadata": {},
     "output_type": "display_data"
    }
   ],
   "source": [
    "plt.plot(\n",
    "    ts_data.x_data, \n",
    "    zero_seq_seed, \n",
    "    'b-'\n",
    ")\n",
    "plt.plot(\n",
    "    ts_data.x_data[:num_time_steps], \n",
    "    zero_seq_seed[:num_time_steps], \n",
    "    'r', \n",
    "    linewidth = 3\n",
    ")\n",
    "plt.xlabel('Time')\n",
    "plt.ylabel('y')"
   ]
  },
  {
   "cell_type": "code",
   "execution_count": 65,
   "metadata": {},
   "outputs": [
    {
     "name": "stdout",
     "output_type": "stream",
     "text": [
      "INFO:tensorflow:Restoring parameters from ./rnn_time_series_model_davizuku\n"
     ]
    }
   ],
   "source": [
    "with tf.Session() as sess:\n",
    "    saver.restore(sess, './rnn_time_series_model_davizuku')\n",
    "    \n",
    "    # SEED ZEROS\n",
    "    \n",
    "    training_instance = list(ts_data.y_true[:30])\n",
    "    \n",
    "    \n",
    "    \n",
    "    for iteration in range(len(ts_data.x_data) - num_time_steps):\n",
    "        X_batch = np.array(training_instance[-num_time_steps:]).reshape(\n",
    "            1, \n",
    "            num_time_steps, \n",
    "            1\n",
    "        )\n",
    "        y_pred = sess.run(outputs, feed_dict={X: X_batch})\n",
    "        \n",
    "        training_instance.append(y_pred[0, -1, 0])"
   ]
  },
  {
   "cell_type": "code",
   "execution_count": 62,
   "metadata": {},
   "outputs": [
    {
     "data": {
      "text/plain": [
       "<matplotlib.text.Text at 0x125320d30>"
      ]
     },
     "execution_count": 62,
     "metadata": {},
     "output_type": "execute_result"
    },
    {
     "data": {
      "image/png": "[encoded data removed]",
      "text/plain": [
       "<matplotlib.figure.Figure at 0x125317208>"
      ]
     },
     "metadata": {},
     "output_type": "display_data"
    }
   ],
   "source": [
    "plt.plot(\n",
    "    ts_data.x_data, \n",
    "    training_instance, \n",
    "    'b-'\n",
    ")\n",
    "plt.plot(\n",
    "    ts_data.x_data[:num_time_steps], \n",
    "    training_instance[:num_time_steps], \n",
    "    'r', \n",
    "    linewidth = 3\n",
    ")\n",
    "plt.xlabel('Time')\n",
    "plt.ylabel('y')"
   ]
  },
  {
   "cell_type": "code",
   "execution_count": 68,
   "metadata": {},
   "outputs": [
    {
     "data": {
      "text/plain": [
       "array([8, 9])"
      ]
     },
     "execution_count": 68,
     "metadata": {},
     "output_type": "execute_result"
    }
   ],
   "source": [
    "np.array(range(10))[-2:]"
   ]
  },
  {
   "cell_type": "code",
   "execution_count": 69,
   "metadata": {},
   "outputs": [
    {
     "data": {
      "text/plain": [
       "array([0, 1, 2, 3, 4, 5, 6, 7])"
      ]
     },
     "execution_count": 69,
     "metadata": {},
     "output_type": "execute_result"
    }
   ],
   "source": [
    "np.array(range(10))[:-2]"
   ]
  },
  {
   "cell_type": "code",
   "execution_count": 74,
   "metadata": {},
   "outputs": [
    {
     "data": {
      "text/plain": [
       "(30,)"
      ]
     },
     "execution_count": 74,
     "metadata": {},
     "output_type": "execute_result"
    }
   ],
   "source": [
    "training_instance = list(ts_data.y_true[:30])\n",
    "np.array(training_instance).shape"
   ]
  },
  {
   "cell_type": "code",
   "execution_count": null,
   "metadata": {
    "collapsed": true
   },
   "outputs": [],
   "source": []
  }
 ],
 "metadata": {
  "kernelspec": {
   "display_name": "Python 3",
   "language": "python",
   "name": "python3"
  },
  "language_info": {
   "codemirror_mode": {
    "name": "ipython",
    "version": 3
   },
   "file_extension": ".py",
   "mimetype": "text/x-python",
   "name": "python",
   "nbconvert_exporter": "python",
   "pygments_lexer": "ipython3",
   "version": "3.6.4"
  }
 },
 "nbformat": 4,
 "nbformat_minor": 2
}
