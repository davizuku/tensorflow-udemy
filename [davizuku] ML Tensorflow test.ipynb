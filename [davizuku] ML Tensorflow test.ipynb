{
 "cells": [
  {
   "cell_type": "code",
   "execution_count": 1,
   "metadata": {
    "collapsed": true
   },
   "outputs": [],
   "source": [
    "import tensorflow as tf"
   ]
  },
  {
   "cell_type": "code",
   "execution_count": 2,
   "metadata": {
    "collapsed": true
   },
   "outputs": [],
   "source": [
    "import numpy as np"
   ]
  },
  {
   "cell_type": "code",
   "execution_count": 3,
   "metadata": {
    "collapsed": true
   },
   "outputs": [],
   "source": [
    "import matplotlib.pyplot as plt\n",
    "%matplotlib inline"
   ]
  },
  {
   "cell_type": "code",
   "execution_count": 4,
   "metadata": {
    "collapsed": true
   },
   "outputs": [],
   "source": [
    "def showRegressionLine(x, y, pred_m, pred_n):\n",
    "    y_pred = pred_m * x + pred_n\n",
    "    plt.scatter(x, y)\n",
    "    plt.plot(x, y_pred, c='red')\n",
    "    plt.show()"
   ]
  },
  {
   "cell_type": "code",
   "execution_count": 11,
   "metadata": {
    "collapsed": true
   },
   "outputs": [],
   "source": [
    "def testRegressionLine(num_samples, random_seed = 1234, iterations = 100):\n",
    "    print('testRegressionLine', num_samples, random_seed, iterations)\n",
    "    np.random.seed(random_seed)\n",
    "    x_data = np.linspace(0, 10, num_samples)\n",
    "    y_labels = 2 * x_data + np.random.normal(loc=0, scale=2, size=num_samples)\n",
    "    # y = m * x + n\n",
    "    n_rand, m_rand = np.random.normal(size=2)\n",
    "    n = tf.Variable(n_rand, dtype=tf.float64)\n",
    "    m = tf.Variable(m_rand, dtype=tf.float64)\n",
    "    # Squared errors\n",
    "    error = 0\n",
    "    for (x, y) in zip(x_data, y_labels):\n",
    "        y_hat = m * x + n\n",
    "        error += (y_hat - y)**2\n",
    "    \n",
    "    optimizer = tf.train.GradientDescentOptimizer(learning_rate=0.001)\n",
    "    train = optimizer.minimize(error)\n",
    "    \n",
    "    \n",
    "    # y_hat = m * x_data + n\n",
    "    # mse = tf.squared_difference(y_hat, y_labels)\n",
    "    # train = optimizer.minimize(mse)\n",
    "    \n",
    "    \n",
    "    init = tf.global_variables_initializer()\n",
    "    with tf.Session() as sess:\n",
    "        sess.run(init)\n",
    "        for i in range(iterations):\n",
    "            sess.run(train)\n",
    "        pred_m, pred_n = sess.run([m, n])\n",
    "    showRegressionLine(x_data, y_labels, pred_m, pred_n)\n",
    "    print('y = ' + str(pred_m) + ' * x + ' + str(pred_n))\n",
    "    print('\\n')"
   ]
  },
  {
   "cell_type": "code",
   "execution_count": 15,
   "metadata": {},
   "outputs": [
    {
     "name": "stdout",
     "output_type": "stream",
     "text": [
      "testRegressionLine 30 1234 1000\n"
     ]
    },
    {
     "data": {
      "image/png": "[encoded data removed]",
      "text/plain": [
       "<matplotlib.figure.Figure at 0x12384a860>"
      ]
     },
     "metadata": {},
     "output_type": "display_data"
    },
    {
     "name": "stdout",
     "output_type": "stream",
     "text": [
      "y = -1.87118631754e+33 * x + -2.78028612825e+32\n",
      "\n",
      "\n"
     ]
    }
   ],
   "source": [
    "testRegressionLine(num_samples=30, iterations = 1000)\n",
    "# for i in range(1, 10):\n",
    "    # testRegressionLine(num_samples=30, iterations = i)\n",
    "# for i in range(10, 10, 10):\n",
    "    # testRegressionLine(num_samples=i, iterations = 10)"
   ]
  },
  {
   "cell_type": "code",
   "execution_count": null,
   "metadata": {
    "collapsed": true
   },
   "outputs": [],
   "source": []
  }
 ],
 "metadata": {
  "kernelspec": {
   "display_name": "Python 3",
   "language": "python",
   "name": "python3"
  },
  "language_info": {
   "codemirror_mode": {
    "name": "ipython",
    "version": 3
   },
   "file_extension": ".py",
   "mimetype": "text/x-python",
   "name": "python",
   "nbconvert_exporter": "python",
   "pygments_lexer": "ipython3",
   "version": "3.5.4"
  }
 },
 "nbformat": 4,
 "nbformat_minor": 2
}
