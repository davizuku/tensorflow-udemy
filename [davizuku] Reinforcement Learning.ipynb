{
 "cells": [
  {
   "cell_type": "markdown",
   "metadata": {},
   "source": [
    "# Reinforcement Learning\n",
    "\n",
    "## Useful resources: \n",
    "\n",
    "Wikipedia: https://en.wikipedia.org/wiki/Reinforcement_learning\n",
    "\n",
    "Keras: https://github.com/matthiasplappert/keras-rl\n",
    "\n",
    "RL Algorithm Repository: https://github.com/dennybritz/reinforcement-learning\n",
    "\n",
    "Berkeley course: http://rll.berkeley.edu/deeprlcourse/\n",
    "\n",
    "Articles: https://medium.com/emergent-future/simple-reinforcement-learning-with-tensorflow-part-0-q-learning-with-tables-and-neural-networks-d195264329d0\n"
   ]
  },
  {
   "cell_type": "markdown",
   "metadata": {},
   "source": [
    "## OpenAI Gym"
   ]
  },
  {
   "cell_type": "markdown",
   "metadata": {},
   "source": [
    "Official documentation: gym.openai.com\n",
    "\n",
    "Available environments: http://gym.openai.com/envs/#classic_control"
   ]
  },
  {
   "cell_type": "markdown",
   "metadata": {},
   "source": [
    "## Set-up\n",
    "\n",
    "- Use editor or IDE and command line.\n",
    "- Code in .py, do not use Notebooks\n"
   ]
  },
  {
   "cell_type": "code",
   "execution_count": 1,
   "metadata": {},
   "outputs": [
    {
     "name": "stdout",
     "output_type": "stream",
     "text": [
      "It WORKS\n"
     ]
    }
   ],
   "source": [
    "import gym\n",
    "print(\"It WORKS\")"
   ]
  },
  {
   "cell_type": "markdown",
   "metadata": {},
   "source": [
    "## Gym Observations\n",
    "\n",
    "A the `step` function returns the following values: \n",
    "\n",
    "- observation: The state of the environment.\n",
    "- reward: The amount of reward achieved by the previous action. The number may vary depending on the environment. \n",
    "- done: Boolean indicating whether the environment needs to be reset.\n",
    "- info: Dictionary with diagnostic information, used for debugging.\n"
   ]
  },
  {
   "cell_type": "code",
   "execution_count": 21,
   "metadata": {
    "collapsed": true
   },
   "outputs": [],
   "source": [
    "import gym\n",
    "import time"
   ]
  },
  {
   "cell_type": "code",
   "execution_count": 23,
   "metadata": {},
   "outputs": [
    {
     "name": "stdout",
     "output_type": "stream",
     "text": [
      "\u001b[33mWARN: gym.spaces.Box autodetected dtype as <class 'numpy.float32'>. Please provide explicit dtype.\u001b[0m\n",
      "Initial Observation\n",
      "[ 0.02038799  0.01437287  0.02857049  0.01362293]\n",
      "\n",
      "\n",
      "Performed One Random Action\n",
      "observation\n",
      "[ 0.02067544  0.20907368  0.02884295 -0.26991052]\n",
      "reward\n",
      "1.0\n",
      "done\n",
      "False\n",
      "info\n",
      "{}\n",
      "\n",
      "\n",
      "Performed One Random Action\n",
      "observation\n",
      "[ 0.02485692  0.40377241  0.02344473 -0.5533585 ]\n",
      "reward\n",
      "1.0\n",
      "done\n",
      "False\n",
      "info\n",
      "{}\n",
      "\n",
      "\n",
      "Performed One Random Action\n",
      "observation\n",
      "[ 0.03293237  0.59855742  0.01237756 -0.8385636 ]\n",
      "reward\n",
      "1.0\n",
      "done\n",
      "False\n",
      "info\n",
      "{}\n",
      "\n",
      "\n",
      "Performed One Random Action\n",
      "observation\n",
      "[ 0.04490351  0.79350819 -0.00439371 -1.12732843]\n",
      "reward\n",
      "1.0\n",
      "done\n",
      "False\n",
      "info\n",
      "{}\n",
      "\n",
      "\n",
      "Performed One Random Action\n",
      "observation\n",
      "[ 0.06077368  0.59844407 -0.02694028 -0.83602684]\n",
      "reward\n",
      "1.0\n",
      "done\n",
      "False\n",
      "info\n",
      "{}\n",
      "\n",
      "\n",
      "Performed One Random Action\n",
      "observation\n",
      "[ 0.07274256  0.79392345 -0.04366081 -1.13705899]\n",
      "reward\n",
      "1.0\n",
      "done\n",
      "False\n",
      "info\n",
      "{}\n",
      "\n",
      "\n",
      "Performed One Random Action\n",
      "observation\n",
      "[ 0.08862103  0.59939893 -0.06640199 -0.85838247]\n",
      "reward\n",
      "1.0\n",
      "done\n",
      "False\n",
      "info\n",
      "{}\n",
      "\n",
      "\n",
      "Performed One Random Action\n",
      "observation\n",
      "[ 0.10060901  0.40524133 -0.08356964 -0.58729575]\n",
      "reward\n",
      "1.0\n",
      "done\n",
      "False\n",
      "info\n",
      "{}\n",
      "\n",
      "\n",
      "Performed One Random Action\n",
      "observation\n",
      "[ 0.10871383  0.60142811 -0.09531556 -0.90508979]\n",
      "reward\n",
      "1.0\n",
      "done\n",
      "False\n",
      "info\n",
      "{}\n",
      "\n",
      "\n",
      "Performed One Random Action\n",
      "observation\n",
      "[ 0.1207424   0.79770262 -0.11341735 -1.22614555]\n",
      "reward\n",
      "1.0\n",
      "done\n",
      "False\n",
      "info\n",
      "{}\n",
      "\n",
      "\n"
     ]
    }
   ],
   "source": [
    "env = gym.make('CartPole-v0')\n",
    "print('Initial Observation')\n",
    "observation = env.reset()\n",
    "print(observation)\n",
    "print('\\n')\n",
    "for _ in range(10):\n",
    "    env.render()\n",
    "    action = env.action_space.sample()\n",
    "    observation, reward, done, info = env.step(action)\n",
    "    print(\"Performed One Random Action\")\n",
    "    print('observation')\n",
    "    print(observation)\n",
    "    print('reward')\n",
    "    print(reward)\n",
    "    print('done')\n",
    "    print(done)\n",
    "    print('info')\n",
    "    print(info)\n",
    "    print('\\n')\n",
    "    time.sleep(0.5)\n",
    "env.close()"
   ]
  },
  {
   "cell_type": "code",
   "execution_count": 27,
   "metadata": {},
   "outputs": [
    {
     "name": "stdout",
     "output_type": "stream",
     "text": [
      "\u001b[33mWARN: gym.spaces.Box autodetected dtype as <class 'numpy.float32'>. Please provide explicit dtype.\u001b[0m\n"
     ]
    },
    {
     "data": {
      "text/plain": [
       "Discrete(2)"
      ]
     },
     "execution_count": 27,
     "metadata": {},
     "output_type": "execute_result"
    }
   ],
   "source": [
    "import gym\n",
    "env = gym.make('CartPole-v0')\n",
    "# Documentation: https://github.com/openai/gym/blob/master/gym/envs/classic_control/cartpole.py#L40\n",
    "env.action_space"
   ]
  },
  {
   "cell_type": "code",
   "execution_count": 28,
   "metadata": {},
   "outputs": [
    {
     "data": {
      "text/plain": [
       "Box(4,)"
      ]
     },
     "execution_count": 28,
     "metadata": {},
     "output_type": "execute_result"
    }
   ],
   "source": [
    "env.observation_space"
   ]
  },
  {
   "cell_type": "code",
   "execution_count": 31,
   "metadata": {},
   "outputs": [
    {
     "name": "stdout",
     "output_type": "stream",
     "text": [
      "\u001b[33mWARN: gym.spaces.Box autodetected dtype as <class 'numpy.float32'>. Please provide explicit dtype.\u001b[0m\n"
     ]
    }
   ],
   "source": [
    "import gym \n",
    "env = gym.make('CartPole-v0')\n",
    "observation = env.reset()\n",
    "\n",
    "for t in range(1000):\n",
    "    env.render()\n",
    "    cart_pos, cart_vel, pole_ang, ang_vel = observation\n",
    "    action = int(pole_ang > 0)\n",
    "    observation, rewared, done, info = env.step(action)\n",
    "    if (done): \n",
    "        break\n",
    "env.close()"
   ]
  },
  {
   "cell_type": "code",
   "execution_count": null,
   "metadata": {
    "collapsed": true
   },
   "outputs": [],
   "source": []
  }
 ],
 "metadata": {
  "kernelspec": {
   "display_name": "Python 3",
   "language": "python",
   "name": "python3"
  },
  "language_info": {
   "codemirror_mode": {
    "name": "ipython",
    "version": 3
   },
   "file_extension": ".py",
   "mimetype": "text/x-python",
   "name": "python",
   "nbconvert_exporter": "python",
   "pygments_lexer": "ipython3",
   "version": "3.5.4"
  }
 },
 "nbformat": 4,
 "nbformat_minor": 2
}
